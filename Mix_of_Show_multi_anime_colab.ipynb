{
  "cells": [
    {
      "cell_type": "markdown",
      "metadata": {
        "id": "view-in-github"
      },
      "source": [
        "[![Open In Colab](https://colab.research.google.com/assets/colab-badge.svg)](https://colab.research.google.com/github/camenduru/Mix-of-Show-colab/blob/main/Mix_of_Show_multi_anime_colab.ipynb)"
      ]
    },
    {
      "cell_type": "code",
      "execution_count": null,
      "metadata": {
        "id": "VjYy0F2gZIPR"
      },
      "outputs": [],
      "source": [
        "%cd /content\n",
        "!git clone -b dev https://github.com/camenduru/Mix-of-Show\n",
        "%cd /content/Mix-of-Show\n",
        "\n",
        "!pip install -q diffusers==0.18.2 transformers accelerate einops omegaconf\n",
        "\n",
        "!mkdir -p /content/Mix-of-Show/models/1001_1_EDLoRA_hina_Anyv4_B4_Repeat500\n",
        "!wget https://huggingface.co/camenduru/Mix-of-Show/resolve/main/single_concept_model/1001_1_EDLoRA_hina_Anyv4_B4_Repeat500/models/edlora_model-latest.pth?download=true -O /content/Mix-of-Show/models/1001_1_EDLoRA_hina_Anyv4_B4_Repeat500/edlora_model-latest.pth\n",
        "!mkdir -p /content/Mix-of-Show/models/1002_1_EDLoRA_kaori_Anyv4_B4_Repeat500\n",
        "!wget https://huggingface.co/camenduru/Mix-of-Show/resolve/main/single_concept_model/1002_1_EDLoRA_kaori_Anyv4_B4_Repeat500/models/edlora_model-latest.pth?download=true -O /content/Mix-of-Show/models/1002_1_EDLoRA_kaori_Anyv4_B4_Repeat500/edlora_model-latest.pth\n",
        "!mkdir -p /content/Mix-of-Show/models/1003_1_EDLoRA_tezuka_Anyv4_B4_Repeat500\n",
        "!wget https://huggingface.co/camenduru/Mix-of-Show/resolve/main/single_concept_model/1003_1_EDLoRA_tezuka_Anyv4_B4_Repeat500/models/edlora_model-latest.pth?download=true -O /content/Mix-of-Show/models/1003_1_EDLoRA_tezuka_Anyv4_B4_Repeat500/edlora_model-latest.pth\n",
        "\n",
        "!mkdir -p /content/Mix-of-Show/multi-concept\n",
        "\n",
        "!python gradient_fusion.py \\\n",
        "    --concept_cfg=\"/content/Mix-of-Show/datasets/data_cfgs/MixofShow/multi-concept/anime/hina+kario+tezuka_anythingv4.json\" \\\n",
        "    --save_path=\"/content/Mix-of-Show/multi-concept\" \\\n",
        "    --pretrained_models=\"xyn-ai/anything-v4.0\" \\\n",
        "    --optimize_textenc_iters=500 \\\n",
        "    --optimize_unet_iters=50"
      ]
    }
  ],
  "metadata": {
    "accelerator": "GPU",
    "colab": {
      "gpuType": "T4",
      "provenance": []
    },
    "kernelspec": {
      "display_name": "Python 3",
      "name": "python3"
    },
    "language_info": {
      "name": "python"
    }
  },
  "nbformat": 4,
  "nbformat_minor": 0
}
