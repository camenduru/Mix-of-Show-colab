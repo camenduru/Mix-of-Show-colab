{
  "cells": [
    {
      "cell_type": "markdown",
      "metadata": {
        "id": "view-in-github"
      },
      "source": [
        "[![Open In Colab](https://colab.research.google.com/assets/colab-badge.svg)](https://colab.research.google.com/github/camenduru/Mix-of-Show-colab/blob/main/Mix_of_Show_fused_multi_real_colab.ipynb)"
      ]
    },
    {
      "cell_type": "code",
      "execution_count": null,
      "metadata": {
        "id": "VjYy0F2gZIPR"
      },
      "outputs": [],
      "source": [
        "%cd /content\n",
        "!git clone -b dev https://github.com/camenduru/Mix-of-Show\n",
        "%cd /content/Mix-of-Show\n",
        "\n",
        "!pip install -q diffusers==0.20.2 transformers accelerate einops omegaconf\n",
        "!pip install -q https://download.pytorch.org/whl/cu121/xformers-0.0.22.post7-cp310-cp310-manylinux2014_x86_64.whl\n",
        "\n",
        "!git clone https://huggingface.co/ckpt/MoS-potter-hermione-thanos-chilloutmix\n",
        "\n",
        "%cd /content/Mix-of-Show\n",
        "\n",
        "fused_model=\"/content/Mix-of-Show/MoS-potter-hermione-thanos-chilloutmix\"\n",
        "expdir=\"/content/Mix-of-Show/potter+hermione+thanos_chilloutmix\"\n",
        "\n",
        "keypose_condition='/content/Mix-of-Show/datasets/validation_spatial_condition/multi-characters/anime_pose_2x/hina_tezuka_kario_2x.png'\n",
        "keypose_adaptor_weight=1.0\n",
        "sketch_condition=''\n",
        "sketch_adaptor_weight=1.0\n",
        "\n",
        "context_prompt='two boys and a girl are standing near a forest'\n",
        "context_neg_prompt='longbody, lowres, bad anatomy, bad hands, missing fingers, extra digit, fewer digits, cropped, worst quality, low quality'\n",
        "\n",
        "region1_prompt='[a <potter1> <potter2>, standing near a forest]'\n",
        "region1_neg_prompt=\"[${context_neg_prompt}]\"\n",
        "region1='[12, 36, 1024, 600]'\n",
        "\n",
        "region2_prompt='[a <hermione1> <hermione2>, standing near a forest]'\n",
        "region2_neg_prompt=\"[${context_neg_prompt}]\"\n",
        "region2='[18, 696, 1024, 1180]'\n",
        "\n",
        "region5_prompt='[a <thanos1> <thanos2>, standing near a forest]'\n",
        "region5_neg_prompt=\"[${context_neg_prompt}]\"\n",
        "region5='[142, 1259, 1024, 1956]'\n",
        "\n",
        "prompt_rewrite=f\"{region1_prompt}-*-{region1_neg_prompt}-*-{region1}|{region2_prompt}-*-{region2_neg_prompt}-*-{region2}|{region5_prompt}-*-{region5_neg_prompt}-*-{region5}\"\n",
        "\n",
        "print(prompt_rewrite)\n",
        "\n",
        "!python regionally_controlable_sampling.py \\\n",
        "  --pretrained_model=\"{fused_model}\" \\\n",
        "  --sketch_adaptor_weight=\"{sketch_adaptor_weight}\" \\\n",
        "  --sketch_condition=\"{sketch_condition}\" \\\n",
        "  --keypose_adaptor_weight=\"{keypose_adaptor_weight}\" \\\n",
        "  --keypose_condition=\"{keypose_condition}\" \\\n",
        "  --save_dir=\"{expdir}\" \\\n",
        "  --prompt=\"{context_prompt}\" \\\n",
        "  --negative_prompt=\"{context_neg_prompt}\" \\\n",
        "  --prompt_rewrite=\"{prompt_rewrite}\" \\\n",
        "  --suffix=\"baseline\" \\\n",
        "  --seed=19"
      ]
    }
  ],
  "metadata": {
    "accelerator": "GPU",
    "colab": {
      "gpuType": "T4",
      "provenance": []
    },
    "kernelspec": {
      "display_name": "Python 3",
      "name": "python3"
    },
    "language_info": {
      "name": "python"
    }
  },
  "nbformat": 4,
  "nbformat_minor": 0
}
